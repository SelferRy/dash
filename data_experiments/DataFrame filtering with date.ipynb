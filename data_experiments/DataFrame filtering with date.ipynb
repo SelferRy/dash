{
 "cells": [
  {
   "cell_type": "code",
   "execution_count": 4,
   "id": "a66211c1",
   "metadata": {},
   "outputs": [],
   "source": [
    "import numpy as np\n",
    "import pandas as pd\n",
    "from datetime import date"
   ]
  },
  {
   "cell_type": "code",
   "execution_count": 3,
   "id": "90ef2ca1",
   "metadata": {},
   "outputs": [
    {
     "data": {
      "text/plain": [
       "[datetime.date(2021, 9, 10),\n",
       " datetime.date(2021, 9, 11),\n",
       " datetime.date(2021, 9, 12),\n",
       " datetime.date(2021, 9, 13),\n",
       " datetime.date(2021, 9, 14),\n",
       " datetime.date(2021, 9, 15),\n",
       " datetime.date(2021, 9, 16),\n",
       " datetime.date(2021, 9, 17),\n",
       " datetime.date(2021, 9, 18),\n",
       " datetime.date(2021, 9, 19)]"
      ]
     },
     "execution_count": 3,
     "metadata": {},
     "output_type": "execute_result"
    }
   ],
   "source": [
    "start_day = 10\n",
    "passed_days = 10\n",
    "month = 9\n",
    "year = 2021\n",
    "date_col = [date(year, month, day) for day in range(start_day, start_day + passed_days)]\n",
    "date_col"
   ]
  },
  {
   "cell_type": "code",
   "execution_count": 5,
   "id": "0230bfb2",
   "metadata": {
    "scrolled": true
   },
   "outputs": [
    {
     "data": {
      "text/html": [
       "<div>\n",
       "<style scoped>\n",
       "    .dataframe tbody tr th:only-of-type {\n",
       "        vertical-align: middle;\n",
       "    }\n",
       "\n",
       "    .dataframe tbody tr th {\n",
       "        vertical-align: top;\n",
       "    }\n",
       "\n",
       "    .dataframe thead th {\n",
       "        text-align: right;\n",
       "    }\n",
       "</style>\n",
       "<table border=\"1\" class=\"dataframe\">\n",
       "  <thead>\n",
       "    <tr style=\"text-align: right;\">\n",
       "      <th></th>\n",
       "      <th>random</th>\n",
       "      <th>random norm</th>\n",
       "    </tr>\n",
       "  </thead>\n",
       "  <tbody>\n",
       "    <tr>\n",
       "      <th>2021-09-10</th>\n",
       "      <td>0.384586</td>\n",
       "      <td>1.549176</td>\n",
       "    </tr>\n",
       "    <tr>\n",
       "      <th>2021-09-11</th>\n",
       "      <td>0.400394</td>\n",
       "      <td>-1.285336</td>\n",
       "    </tr>\n",
       "    <tr>\n",
       "      <th>2021-09-12</th>\n",
       "      <td>0.754883</td>\n",
       "      <td>0.088510</td>\n",
       "    </tr>\n",
       "    <tr>\n",
       "      <th>2021-09-13</th>\n",
       "      <td>0.291876</td>\n",
       "      <td>0.433677</td>\n",
       "    </tr>\n",
       "    <tr>\n",
       "      <th>2021-09-14</th>\n",
       "      <td>0.883785</td>\n",
       "      <td>-0.721426</td>\n",
       "    </tr>\n",
       "    <tr>\n",
       "      <th>2021-09-15</th>\n",
       "      <td>0.566011</td>\n",
       "      <td>1.442521</td>\n",
       "    </tr>\n",
       "    <tr>\n",
       "      <th>2021-09-16</th>\n",
       "      <td>0.663586</td>\n",
       "      <td>-0.366104</td>\n",
       "    </tr>\n",
       "    <tr>\n",
       "      <th>2021-09-17</th>\n",
       "      <td>0.940206</td>\n",
       "      <td>1.236872</td>\n",
       "    </tr>\n",
       "    <tr>\n",
       "      <th>2021-09-18</th>\n",
       "      <td>0.663711</td>\n",
       "      <td>-0.722066</td>\n",
       "    </tr>\n",
       "    <tr>\n",
       "      <th>2021-09-19</th>\n",
       "      <td>0.497942</td>\n",
       "      <td>-0.307576</td>\n",
       "    </tr>\n",
       "  </tbody>\n",
       "</table>\n",
       "</div>"
      ],
      "text/plain": [
       "              random  random norm\n",
       "2021-09-10  0.384586     1.549176\n",
       "2021-09-11  0.400394    -1.285336\n",
       "2021-09-12  0.754883     0.088510\n",
       "2021-09-13  0.291876     0.433677\n",
       "2021-09-14  0.883785    -0.721426\n",
       "2021-09-15  0.566011     1.442521\n",
       "2021-09-16  0.663586    -0.366104\n",
       "2021-09-17  0.940206     1.236872\n",
       "2021-09-18  0.663711    -0.722066\n",
       "2021-09-19  0.497942    -0.307576"
      ]
     },
     "execution_count": 5,
     "metadata": {},
     "output_type": "execute_result"
    }
   ],
   "source": [
    "imaginated_data = {\"random\": np.random.rand(len(date_col)),\n",
    "                   \"random norm\": np.random.randn(len(date_col))}\n",
    "df_ind_date = pd.DataFrame(imaginated_data, index=date_col)\n",
    "df_ind_date"
   ]
  },
  {
   "cell_type": "code",
   "execution_count": 11,
   "id": "a0b1ae21",
   "metadata": {},
   "outputs": [
    {
     "data": {
      "text/html": [
       "<div>\n",
       "<style scoped>\n",
       "    .dataframe tbody tr th:only-of-type {\n",
       "        vertical-align: middle;\n",
       "    }\n",
       "\n",
       "    .dataframe tbody tr th {\n",
       "        vertical-align: top;\n",
       "    }\n",
       "\n",
       "    .dataframe thead th {\n",
       "        text-align: right;\n",
       "    }\n",
       "</style>\n",
       "<table border=\"1\" class=\"dataframe\">\n",
       "  <thead>\n",
       "    <tr style=\"text-align: right;\">\n",
       "      <th></th>\n",
       "      <th>random</th>\n",
       "      <th>random norm</th>\n",
       "    </tr>\n",
       "  </thead>\n",
       "  <tbody>\n",
       "    <tr>\n",
       "      <th>2021-09-13</th>\n",
       "      <td>0.291876</td>\n",
       "      <td>0.433677</td>\n",
       "    </tr>\n",
       "    <tr>\n",
       "      <th>2021-09-14</th>\n",
       "      <td>0.883785</td>\n",
       "      <td>-0.721426</td>\n",
       "    </tr>\n",
       "    <tr>\n",
       "      <th>2021-09-15</th>\n",
       "      <td>0.566011</td>\n",
       "      <td>1.442521</td>\n",
       "    </tr>\n",
       "    <tr>\n",
       "      <th>2021-09-16</th>\n",
       "      <td>0.663586</td>\n",
       "      <td>-0.366104</td>\n",
       "    </tr>\n",
       "    <tr>\n",
       "      <th>2021-09-17</th>\n",
       "      <td>0.940206</td>\n",
       "      <td>1.236872</td>\n",
       "    </tr>\n",
       "    <tr>\n",
       "      <th>2021-09-18</th>\n",
       "      <td>0.663711</td>\n",
       "      <td>-0.722066</td>\n",
       "    </tr>\n",
       "  </tbody>\n",
       "</table>\n",
       "</div>"
      ],
      "text/plain": [
       "              random  random norm\n",
       "2021-09-13  0.291876     0.433677\n",
       "2021-09-14  0.883785    -0.721426\n",
       "2021-09-15  0.566011     1.442521\n",
       "2021-09-16  0.663586    -0.366104\n",
       "2021-09-17  0.940206     1.236872\n",
       "2021-09-18  0.663711    -0.722066"
      ]
     },
     "execution_count": 11,
     "metadata": {},
     "output_type": "execute_result"
    }
   ],
   "source": [
    "# Slice for date-index-case:\n",
    "df_ind_date.loc[date_col[3]: date_col[8], :]"
   ]
  },
  {
   "cell_type": "code",
   "execution_count": 20,
   "id": "717b7821",
   "metadata": {
    "scrolled": true
   },
   "outputs": [
    {
     "data": {
      "text/html": [
       "<div>\n",
       "<style scoped>\n",
       "    .dataframe tbody tr th:only-of-type {\n",
       "        vertical-align: middle;\n",
       "    }\n",
       "\n",
       "    .dataframe tbody tr th {\n",
       "        vertical-align: top;\n",
       "    }\n",
       "\n",
       "    .dataframe thead th {\n",
       "        text-align: right;\n",
       "    }\n",
       "</style>\n",
       "<table border=\"1\" class=\"dataframe\">\n",
       "  <thead>\n",
       "    <tr style=\"text-align: right;\">\n",
       "      <th></th>\n",
       "      <th>random</th>\n",
       "      <th>random norm</th>\n",
       "      <th>date</th>\n",
       "    </tr>\n",
       "  </thead>\n",
       "  <tbody>\n",
       "    <tr>\n",
       "      <th>3</th>\n",
       "      <td>0.291876</td>\n",
       "      <td>0.433677</td>\n",
       "      <td>2021-09-13</td>\n",
       "    </tr>\n",
       "    <tr>\n",
       "      <th>4</th>\n",
       "      <td>0.883785</td>\n",
       "      <td>-0.721426</td>\n",
       "      <td>2021-09-14</td>\n",
       "    </tr>\n",
       "    <tr>\n",
       "      <th>5</th>\n",
       "      <td>0.566011</td>\n",
       "      <td>1.442521</td>\n",
       "      <td>2021-09-15</td>\n",
       "    </tr>\n",
       "    <tr>\n",
       "      <th>6</th>\n",
       "      <td>0.663586</td>\n",
       "      <td>-0.366104</td>\n",
       "      <td>2021-09-16</td>\n",
       "    </tr>\n",
       "    <tr>\n",
       "      <th>7</th>\n",
       "      <td>0.940206</td>\n",
       "      <td>1.236872</td>\n",
       "      <td>2021-09-17</td>\n",
       "    </tr>\n",
       "    <tr>\n",
       "      <th>8</th>\n",
       "      <td>0.663711</td>\n",
       "      <td>-0.722066</td>\n",
       "      <td>2021-09-18</td>\n",
       "    </tr>\n",
       "  </tbody>\n",
       "</table>\n",
       "</div>"
      ],
      "text/plain": [
       "     random  random norm        date\n",
       "3  0.291876     0.433677  2021-09-13\n",
       "4  0.883785    -0.721426  2021-09-14\n",
       "5  0.566011     1.442521  2021-09-15\n",
       "6  0.663586    -0.366104  2021-09-16\n",
       "7  0.940206     1.236872  2021-09-17\n",
       "8  0.663711    -0.722066  2021-09-18"
      ]
     },
     "execution_count": 20,
     "metadata": {},
     "output_type": "execute_result"
    }
   ],
   "source": [
    "# Slice for date-column-case:\n",
    "imaginated_data[\"date\"] = date_col\n",
    "df_col_date = pd.DataFrame(imaginated_data)\n",
    "df_col_date[\n",
    "    (df_col_date['date'] >= date_col[3]) & \n",
    "    (df_col_date['date'] <= date_col[8])]"
   ]
  }
 ],
 "metadata": {
  "kernelspec": {
   "display_name": "Python 3 (ipykernel)",
   "language": "python",
   "name": "python3"
  },
  "language_info": {
   "codemirror_mode": {
    "name": "ipython",
    "version": 3
   },
   "file_extension": ".py",
   "mimetype": "text/x-python",
   "name": "python",
   "nbconvert_exporter": "python",
   "pygments_lexer": "ipython3",
   "version": "3.8.10"
  }
 },
 "nbformat": 4,
 "nbformat_minor": 5
}
