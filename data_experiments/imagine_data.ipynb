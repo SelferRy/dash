{
 "cells": [
  {
   "cell_type": "code",
   "execution_count": 1,
   "id": "3a74dc4e",
   "metadata": {},
   "outputs": [],
   "source": [
    "import pandas as pd\n",
    "from datetime import date\n",
    "import numpy as np"
   ]
  },
  {
   "cell_type": "code",
   "execution_count": 3,
   "id": "42623fea",
   "metadata": {
    "scrolled": true
   },
   "outputs": [
    {
     "data": {
      "text/html": [
       "<div>\n",
       "<style scoped>\n",
       "    .dataframe tbody tr th:only-of-type {\n",
       "        vertical-align: middle;\n",
       "    }\n",
       "\n",
       "    .dataframe tbody tr th {\n",
       "        vertical-align: top;\n",
       "    }\n",
       "\n",
       "    .dataframe thead th {\n",
       "        text-align: right;\n",
       "    }\n",
       "</style>\n",
       "<table border=\"1\" class=\"dataframe\">\n",
       "  <thead>\n",
       "    <tr style=\"text-align: right;\">\n",
       "      <th></th>\n",
       "      <th>A</th>\n",
       "      <th>B</th>\n",
       "      <th>C</th>\n",
       "    </tr>\n",
       "  </thead>\n",
       "  <tbody>\n",
       "    <tr>\n",
       "      <th>2021-09-10</th>\n",
       "      <td>0.640872</td>\n",
       "      <td>-1.701072</td>\n",
       "      <td>1.0</td>\n",
       "    </tr>\n",
       "    <tr>\n",
       "      <th>2021-09-11</th>\n",
       "      <td>0.721789</td>\n",
       "      <td>0.617975</td>\n",
       "      <td>1.0</td>\n",
       "    </tr>\n",
       "    <tr>\n",
       "      <th>2021-09-12</th>\n",
       "      <td>0.027244</td>\n",
       "      <td>-0.428279</td>\n",
       "      <td>1.0</td>\n",
       "    </tr>\n",
       "    <tr>\n",
       "      <th>2021-09-13</th>\n",
       "      <td>0.558296</td>\n",
       "      <td>0.437431</td>\n",
       "      <td>1.0</td>\n",
       "    </tr>\n",
       "    <tr>\n",
       "      <th>2021-09-14</th>\n",
       "      <td>0.738049</td>\n",
       "      <td>-0.849224</td>\n",
       "      <td>1.0</td>\n",
       "    </tr>\n",
       "  </tbody>\n",
       "</table>\n",
       "</div>"
      ],
      "text/plain": [
       "                   A         B    C\n",
       "2021-09-10  0.640872 -1.701072  1.0\n",
       "2021-09-11  0.721789  0.617975  1.0\n",
       "2021-09-12  0.027244 -0.428279  1.0\n",
       "2021-09-13  0.558296  0.437431  1.0\n",
       "2021-09-14  0.738049 -0.849224  1.0"
      ]
     },
     "execution_count": 3,
     "metadata": {},
     "output_type": "execute_result"
    }
   ],
   "source": [
    "def date_generator(day):\n",
    "    return date(2021, 9, day)\n",
    "\n",
    "n = 20\n",
    "indices = [date_generator(day) for day in range(10, 10 + n)]\n",
    "df = pd.DataFrame({\"A\": np.random.rand(n),\n",
    "                   \"B\": np.random.randn(n),\n",
    "                   \"C\": np.ones(n)}, index=indices)\n",
    "df.head()"
   ]
  },
  {
   "cell_type": "code",
   "execution_count": 3,
   "id": "8a1ed2a7",
   "metadata": {},
   "outputs": [
    {
     "data": {
      "text/plain": [
       "{'A': 0.38101045797476585, 'B': 0.403981636337223, 'C': 1.0}"
      ]
     },
     "execution_count": 3,
     "metadata": {},
     "output_type": "execute_result"
    }
   ],
   "source": [
    "df.to_dict('records')[0]"
   ]
  },
  {
   "cell_type": "code",
   "execution_count": 4,
   "id": "ab543aa6",
   "metadata": {
    "scrolled": true
   },
   "outputs": [
    {
     "data": {
      "text/html": [
       "<div>\n",
       "<style scoped>\n",
       "    .dataframe tbody tr th:only-of-type {\n",
       "        vertical-align: middle;\n",
       "    }\n",
       "\n",
       "    .dataframe tbody tr th {\n",
       "        vertical-align: top;\n",
       "    }\n",
       "\n",
       "    .dataframe thead th {\n",
       "        text-align: right;\n",
       "    }\n",
       "</style>\n",
       "<table border=\"1\" class=\"dataframe\">\n",
       "  <thead>\n",
       "    <tr style=\"text-align: right;\">\n",
       "      <th></th>\n",
       "      <th>A</th>\n",
       "      <th>B</th>\n",
       "      <th>C</th>\n",
       "    </tr>\n",
       "  </thead>\n",
       "  <tbody>\n",
       "    <tr>\n",
       "      <th>2021-09-13</th>\n",
       "      <td>0.558296</td>\n",
       "      <td>0.437431</td>\n",
       "      <td>1.0</td>\n",
       "    </tr>\n",
       "    <tr>\n",
       "      <th>2021-09-14</th>\n",
       "      <td>0.738049</td>\n",
       "      <td>-0.849224</td>\n",
       "      <td>1.0</td>\n",
       "    </tr>\n",
       "    <tr>\n",
       "      <th>2021-09-15</th>\n",
       "      <td>0.188365</td>\n",
       "      <td>0.275406</td>\n",
       "      <td>1.0</td>\n",
       "    </tr>\n",
       "    <tr>\n",
       "      <th>2021-09-16</th>\n",
       "      <td>0.995887</td>\n",
       "      <td>1.090084</td>\n",
       "      <td>1.0</td>\n",
       "    </tr>\n",
       "    <tr>\n",
       "      <th>2021-09-17</th>\n",
       "      <td>0.557705</td>\n",
       "      <td>0.966979</td>\n",
       "      <td>1.0</td>\n",
       "    </tr>\n",
       "    <tr>\n",
       "      <th>2021-09-18</th>\n",
       "      <td>0.669586</td>\n",
       "      <td>-0.398953</td>\n",
       "      <td>1.0</td>\n",
       "    </tr>\n",
       "    <tr>\n",
       "      <th>2021-09-19</th>\n",
       "      <td>0.859506</td>\n",
       "      <td>-0.890369</td>\n",
       "      <td>1.0</td>\n",
       "    </tr>\n",
       "    <tr>\n",
       "      <th>2021-09-20</th>\n",
       "      <td>0.958970</td>\n",
       "      <td>-1.443892</td>\n",
       "      <td>1.0</td>\n",
       "    </tr>\n",
       "    <tr>\n",
       "      <th>2021-09-21</th>\n",
       "      <td>0.352162</td>\n",
       "      <td>-2.056903</td>\n",
       "      <td>1.0</td>\n",
       "    </tr>\n",
       "  </tbody>\n",
       "</table>\n",
       "</div>"
      ],
      "text/plain": [
       "                   A         B    C\n",
       "2021-09-13  0.558296  0.437431  1.0\n",
       "2021-09-14  0.738049 -0.849224  1.0\n",
       "2021-09-15  0.188365  0.275406  1.0\n",
       "2021-09-16  0.995887  1.090084  1.0\n",
       "2021-09-17  0.557705  0.966979  1.0\n",
       "2021-09-18  0.669586 -0.398953  1.0\n",
       "2021-09-19  0.859506 -0.890369  1.0\n",
       "2021-09-20  0.958970 -1.443892  1.0\n",
       "2021-09-21  0.352162 -2.056903  1.0"
      ]
     },
     "execution_count": 4,
     "metadata": {},
     "output_type": "execute_result"
    }
   ],
   "source": [
    "def get_day(day):\n",
    "    return date(2021, 9, day)\n",
    "\n",
    "df.loc[get_day(13): get_day(21), :]"
   ]
  },
  {
   "cell_type": "code",
   "execution_count": 6,
   "id": "9bd982e9",
   "metadata": {
    "scrolled": false
   },
   "outputs": [
    {
     "data": {
      "text/html": [
       "<div>\n",
       "<style scoped>\n",
       "    .dataframe tbody tr th:only-of-type {\n",
       "        vertical-align: middle;\n",
       "    }\n",
       "\n",
       "    .dataframe tbody tr th {\n",
       "        vertical-align: top;\n",
       "    }\n",
       "\n",
       "    .dataframe thead th {\n",
       "        text-align: right;\n",
       "    }\n",
       "</style>\n",
       "<table border=\"1\" class=\"dataframe\">\n",
       "  <thead>\n",
       "    <tr style=\"text-align: right;\">\n",
       "      <th></th>\n",
       "      <th>date</th>\n",
       "      <th>A</th>\n",
       "      <th>B</th>\n",
       "      <th>C</th>\n",
       "    </tr>\n",
       "  </thead>\n",
       "  <tbody>\n",
       "    <tr>\n",
       "      <th>0</th>\n",
       "      <td>2021-09-10</td>\n",
       "      <td>0.751746</td>\n",
       "      <td>-0.146003</td>\n",
       "      <td>1.0</td>\n",
       "    </tr>\n",
       "    <tr>\n",
       "      <th>1</th>\n",
       "      <td>2021-09-11</td>\n",
       "      <td>0.718064</td>\n",
       "      <td>0.115969</td>\n",
       "      <td>1.0</td>\n",
       "    </tr>\n",
       "    <tr>\n",
       "      <th>2</th>\n",
       "      <td>2021-09-12</td>\n",
       "      <td>0.776831</td>\n",
       "      <td>2.271121</td>\n",
       "      <td>1.0</td>\n",
       "    </tr>\n",
       "    <tr>\n",
       "      <th>3</th>\n",
       "      <td>2021-09-13</td>\n",
       "      <td>0.108948</td>\n",
       "      <td>-2.018863</td>\n",
       "      <td>1.0</td>\n",
       "    </tr>\n",
       "    <tr>\n",
       "      <th>4</th>\n",
       "      <td>2021-09-14</td>\n",
       "      <td>0.345586</td>\n",
       "      <td>-1.813727</td>\n",
       "      <td>1.0</td>\n",
       "    </tr>\n",
       "  </tbody>\n",
       "</table>\n",
       "</div>"
      ],
      "text/plain": [
       "         date         A         B    C\n",
       "0  2021-09-10  0.751746 -0.146003  1.0\n",
       "1  2021-09-11  0.718064  0.115969  1.0\n",
       "2  2021-09-12  0.776831  2.271121  1.0\n",
       "3  2021-09-13  0.108948 -2.018863  1.0\n",
       "4  2021-09-14  0.345586 -1.813727  1.0"
      ]
     },
     "execution_count": 6,
     "metadata": {},
     "output_type": "execute_result"
    }
   ],
   "source": [
    "def date_generator(day):\n",
    "    return date(2021, 9, day)\n",
    "\n",
    "n = 20\n",
    "indices = [date_generator(day) for day in range(10, 10 + n)]\n",
    "df = pd.DataFrame({\"date\": indices,\n",
    "                   \"A\": np.random.rand(n),\n",
    "                   \"B\": np.random.randn(n),\n",
    "                   \"C\": np.ones(n)})\n",
    "df.head()"
   ]
  },
  {
   "cell_type": "code",
   "execution_count": null,
   "id": "f9d96341",
   "metadata": {},
   "outputs": [],
   "source": [
    "df[df[\"date\"] ]"
   ]
  },
  {
   "cell_type": "code",
   "execution_count": null,
   "id": "d9faad88",
   "metadata": {},
   "outputs": [
    {
     "name": "stdout",
     "output_type": "stream",
     "text": [
      "Dash is running on http://127.0.0.1:8050/\n",
      "\n",
      " * Serving Flask app '__main__' (lazy loading)\n",
      " * Environment: production\n",
      "\u001b[31m   WARNING: This is a development server. Do not use it in a production deployment.\u001b[0m\n",
      "\u001b[2m   Use a production WSGI server instead.\u001b[0m\n",
      " * Debug mode: off\n"
     ]
    },
    {
     "name": "stderr",
     "output_type": "stream",
     "text": [
      " * Running on http://127.0.0.1:8050/ (Press CTRL+C to quit)\n",
      "127.0.0.1 - - [29/Sep/2021 01:41:20] \"GET / HTTP/1.1\" 200 -\n",
      "127.0.0.1 - - [29/Sep/2021 01:41:21] \"GET /_dash-layout HTTP/1.1\" 200 -\n",
      "127.0.0.1 - - [29/Sep/2021 01:41:21] \"GET /_dash-dependencies HTTP/1.1\" 200 -\n",
      "127.0.0.1 - - [29/Sep/2021 01:41:21] \"GET /_dash-component-suites/dash/dash_table/async-highlight.js HTTP/1.1\" 200 -\n",
      "127.0.0.1 - - [29/Sep/2021 01:41:21] \"GET /_dash-component-suites/dash/dash_table/async-table.js HTTP/1.1\" 200 -\n",
      "127.0.0.1 - - [29/Sep/2021 01:41:53] \"GET /_reload-hash HTTP/1.1\" 200 -\n",
      "127.0.0.1 - - [29/Sep/2021 01:41:53] \"GET /_reload-hash HTTP/1.1\" 200 -\n",
      "127.0.0.1 - - [29/Sep/2021 01:41:53] \"GET /_reload-hash HTTP/1.1\" 200 -\n",
      "127.0.0.1 - - [29/Sep/2021 01:41:53] \"GET /_reload-hash HTTP/1.1\" 200 -\n"
     ]
    }
   ],
   "source": [
    "import dash\n",
    "from dash import dash_table\n",
    "from dash import html\n",
    "from dash import dcc\n",
    "import pandas as pd\n",
    "from collections import OrderedDict\n",
    "\n",
    "\n",
    "app = dash.Dash(__name__)\n",
    "\n",
    "app.layout = html.Div(children=[\n",
    "    html.H1(children='My own page with Dash'),\n",
    "    html.Center(html.H3(\"This is H3\")),\n",
    "    html.H5(\"this H5\", style={'text-align': 'right'}),\n",
    "    dcc.Link(\"The link\", id=\"link\", style={'color': 'green', 'text-align': 'center'}, href=\"https://google.com\"),\n",
    "    dash_table.DataTable(\n",
    "        data=df.to_dict('records'),\n",
    "        columns=[{'id': c, 'name': c} for c in df.columns],\n",
    "        style_header={'border': '1px solid black'},\n",
    "        style_cell={'border': '1px solid grey', 'minWidth': '80px', 'width': '80px', 'maxWidth': '80px'},\n",
    "#         style_data_conditional=[\n",
    "#             {\n",
    "#                 'if': {\n",
    "#                     'filter_query': '{Temperature} < 0',\n",
    "#                     'column_id': 'Temperature'\n",
    "#                 },\n",
    "#                 'backgroundColor': 'blue',\n",
    "#                 'color': \"white\"\n",
    "#             }\n",
    "#         ]\n",
    "    )\n",
    "])\n",
    "\n",
    "if __name__ == '__main__':\n",
    "    app.run_server(debug=False)"
   ]
  }
 ],
 "metadata": {
  "kernelspec": {
   "display_name": "Python 3 (ipykernel)",
   "language": "python",
   "name": "python3"
  },
  "language_info": {
   "codemirror_mode": {
    "name": "ipython",
    "version": 3
   },
   "file_extension": ".py",
   "mimetype": "text/x-python",
   "name": "python",
   "nbconvert_exporter": "python",
   "pygments_lexer": "ipython3",
   "version": "3.8.10"
  }
 },
 "nbformat": 4,
 "nbformat_minor": 5
}
