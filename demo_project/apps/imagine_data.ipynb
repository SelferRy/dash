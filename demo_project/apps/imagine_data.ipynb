{
 "cells": [
  {
   "cell_type": "code",
   "execution_count": 1,
   "id": "3a74dc4e",
   "metadata": {},
   "outputs": [],
   "source": [
    "import pandas as pd\n",
    "from datetime import date\n",
    "import numpy as np"
   ]
  },
  {
   "cell_type": "code",
   "execution_count": 2,
   "id": "42623fea",
   "metadata": {
    "scrolled": false
   },
   "outputs": [
    {
     "data": {
      "text/html": [
       "<div>\n",
       "<style scoped>\n",
       "    .dataframe tbody tr th:only-of-type {\n",
       "        vertical-align: middle;\n",
       "    }\n",
       "\n",
       "    .dataframe tbody tr th {\n",
       "        vertical-align: top;\n",
       "    }\n",
       "\n",
       "    .dataframe thead th {\n",
       "        text-align: right;\n",
       "    }\n",
       "</style>\n",
       "<table border=\"1\" class=\"dataframe\">\n",
       "  <thead>\n",
       "    <tr style=\"text-align: right;\">\n",
       "      <th></th>\n",
       "      <th>A</th>\n",
       "      <th>B</th>\n",
       "      <th>C</th>\n",
       "    </tr>\n",
       "  </thead>\n",
       "  <tbody>\n",
       "    <tr>\n",
       "      <th>2021-09-10</th>\n",
       "      <td>0.628978</td>\n",
       "      <td>-0.092513</td>\n",
       "      <td>1.0</td>\n",
       "    </tr>\n",
       "    <tr>\n",
       "      <th>2021-09-11</th>\n",
       "      <td>0.681137</td>\n",
       "      <td>2.756756</td>\n",
       "      <td>1.0</td>\n",
       "    </tr>\n",
       "    <tr>\n",
       "      <th>2021-09-12</th>\n",
       "      <td>0.478143</td>\n",
       "      <td>-0.396118</td>\n",
       "      <td>1.0</td>\n",
       "    </tr>\n",
       "    <tr>\n",
       "      <th>2021-09-13</th>\n",
       "      <td>0.857722</td>\n",
       "      <td>0.743010</td>\n",
       "      <td>1.0</td>\n",
       "    </tr>\n",
       "    <tr>\n",
       "      <th>2021-09-14</th>\n",
       "      <td>0.615827</td>\n",
       "      <td>0.143502</td>\n",
       "      <td>1.0</td>\n",
       "    </tr>\n",
       "  </tbody>\n",
       "</table>\n",
       "</div>"
      ],
      "text/plain": [
       "                   A         B    C\n",
       "2021-09-10  0.628978 -0.092513  1.0\n",
       "2021-09-11  0.681137  2.756756  1.0\n",
       "2021-09-12  0.478143 -0.396118  1.0\n",
       "2021-09-13  0.857722  0.743010  1.0\n",
       "2021-09-14  0.615827  0.143502  1.0"
      ]
     },
     "execution_count": 2,
     "metadata": {},
     "output_type": "execute_result"
    }
   ],
   "source": [
    "def date_generator(day):\n",
    "    return date(2021, 9, day)\n",
    "\n",
    "n = 20\n",
    "indices = [date_generator(day) for day in range(10, 10 + n)]\n",
    "df = pd.DataFrame({\"A\": np.random.rand(n),\n",
    "                   \"B\": np.random.randn(n),\n",
    "                   \"C\": np.ones(n)}, index=indices)\n",
    "df.head()"
   ]
  },
  {
   "cell_type": "code",
   "execution_count": 3,
   "id": "8a1ed2a7",
   "metadata": {},
   "outputs": [
    {
     "data": {
      "text/plain": [
       "{'A': 0.6289782732842791, 'B': -0.09251329824669176, 'C': 1.0}"
      ]
     },
     "execution_count": 3,
     "metadata": {},
     "output_type": "execute_result"
    }
   ],
   "source": [
    "df.to_dict('records')[0]"
   ]
  },
  {
   "cell_type": "code",
   "execution_count": null,
   "id": "d9faad88",
   "metadata": {},
   "outputs": [
    {
     "name": "stdout",
     "output_type": "stream",
     "text": [
      "Dash is running on http://127.0.0.1:8050/\n",
      "\n",
      " * Serving Flask app '__main__' (lazy loading)\n",
      " * Environment: production\n",
      "\u001b[31m   WARNING: This is a development server. Do not use it in a production deployment.\u001b[0m\n",
      "\u001b[2m   Use a production WSGI server instead.\u001b[0m\n",
      " * Debug mode: off\n"
     ]
    },
    {
     "name": "stderr",
     "output_type": "stream",
     "text": [
      " * Running on http://127.0.0.1:8050/ (Press CTRL+C to quit)\n",
      "127.0.0.1 - - [29/Sep/2021 01:41:20] \"GET / HTTP/1.1\" 200 -\n",
      "127.0.0.1 - - [29/Sep/2021 01:41:21] \"GET /_dash-layout HTTP/1.1\" 200 -\n",
      "127.0.0.1 - - [29/Sep/2021 01:41:21] \"GET /_dash-dependencies HTTP/1.1\" 200 -\n",
      "127.0.0.1 - - [29/Sep/2021 01:41:21] \"GET /_dash-component-suites/dash/dash_table/async-highlight.js HTTP/1.1\" 200 -\n",
      "127.0.0.1 - - [29/Sep/2021 01:41:21] \"GET /_dash-component-suites/dash/dash_table/async-table.js HTTP/1.1\" 200 -\n",
      "127.0.0.1 - - [29/Sep/2021 01:41:53] \"GET /_reload-hash HTTP/1.1\" 200 -\n",
      "127.0.0.1 - - [29/Sep/2021 01:41:53] \"GET /_reload-hash HTTP/1.1\" 200 -\n",
      "127.0.0.1 - - [29/Sep/2021 01:41:53] \"GET /_reload-hash HTTP/1.1\" 200 -\n",
      "127.0.0.1 - - [29/Sep/2021 01:41:53] \"GET /_reload-hash HTTP/1.1\" 200 -\n"
     ]
    }
   ],
   "source": [
    "import dash\n",
    "from dash import dash_table\n",
    "from dash import html\n",
    "from dash import dcc\n",
    "import pandas as pd\n",
    "from collections import OrderedDict\n",
    "\n",
    "\n",
    "app = dash.Dash(__name__)\n",
    "\n",
    "app.layout = html.Div(children=[\n",
    "    html.H1(children='My own page with Dash'),\n",
    "    html.Center(html.H3(\"This is H3\")),\n",
    "    html.H5(\"this H5\", style={'text-align': 'right'}),\n",
    "    dcc.Link(\"The link\", id=\"link\", style={'color': 'green', 'text-align': 'center'}, href=\"https://google.com\"),\n",
    "    dash_table.DataTable(\n",
    "        data=df.to_dict('records'),\n",
    "        columns=[{'id': c, 'name': c} for c in df.columns],\n",
    "        style_header={'border': '1px solid black'},\n",
    "        style_cell={'border': '1px solid grey', 'minWidth': '80px', 'width': '80px', 'maxWidth': '80px'},\n",
    "#         style_data_conditional=[\n",
    "#             {\n",
    "#                 'if': {\n",
    "#                     'filter_query': '{Temperature} < 0',\n",
    "#                     'column_id': 'Temperature'\n",
    "#                 },\n",
    "#                 'backgroundColor': 'blue',\n",
    "#                 'color': \"white\"\n",
    "#             }\n",
    "#         ]\n",
    "    )\n",
    "])\n",
    "\n",
    "if __name__ == '__main__':\n",
    "    app.run_server(debug=False)"
   ]
  }
 ],
 "metadata": {
  "kernelspec": {
   "display_name": "Python 3 (ipykernel)",
   "language": "python",
   "name": "python3"
  },
  "language_info": {
   "codemirror_mode": {
    "name": "ipython",
    "version": 3
   },
   "file_extension": ".py",
   "mimetype": "text/x-python",
   "name": "python",
   "nbconvert_exporter": "python",
   "pygments_lexer": "ipython3",
   "version": "3.8.10"
  }
 },
 "nbformat": 4,
 "nbformat_minor": 5
}
